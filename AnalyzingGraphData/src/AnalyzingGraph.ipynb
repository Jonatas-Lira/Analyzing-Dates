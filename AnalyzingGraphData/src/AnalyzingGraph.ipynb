{
 "cells": [
  {
   "metadata": {
    "ExecuteTime": {
     "end_time": "2024-05-06T16:03:03.966467Z",
     "start_time": "2024-05-06T16:03:03.961371Z"
    }
   },
   "cell_type": "code",
   "source": [
    "datas = [3, 0, 4, 5, 2, 3, 1, 1, 1, 1, 5, 3, 1]\n",
    "\n",
    "maxValue = max(datas)\n",
    "\n",
    "minValue = min(datas)\n",
    "\n",
    "EmployeesWith10sells = sum( 1 for v in datas if v >= 10)\n",
    "\n",
    "Employeesplus1sell = sum(1 for v in datas if v if 1 < v <= 3)"
   ],
   "id": "f29c1865a750ea80",
   "outputs": [],
   "execution_count": 117
  },
  {
   "metadata": {
    "ExecuteTime": {
     "end_time": "2024-05-06T16:03:03.973835Z",
     "start_time": "2024-05-06T16:03:03.967477Z"
    }
   },
   "cell_type": "code",
   "source": [
    "print(f\" O valor máximo do gráfico é {maxValue}\")\n",
    "print(f\" O valor minimo do gráfico é {minValue} \")\n",
    "print(f\" Todos os funcionarios com 10 vendas {EmployeesWith10sells} \")\n",
    "print(f\" Todos os funcionarios com mais de 1 venda e até 3 é  {Employeesplus1sell} \")"
   ],
   "id": "e0c91dde5ce61262",
   "outputs": [
    {
     "name": "stdout",
     "output_type": "stream",
     "text": [
      " O valor máximo do gráfico é 5\n",
      " O valor minimo do gráfico é 0 \n",
      " Todos os funcionarios com 10 vendas 0 \n",
      " Todos os funcionarios com mais de 1 venda e até 3 é  4 \n"
     ]
    }
   ],
   "execution_count": 118
  }
 ],
 "metadata": {
  "kernelspec": {
   "display_name": "Python 3",
   "language": "python",
   "name": "python3"
  },
  "language_info": {
   "codemirror_mode": {
    "name": "ipython",
    "version": 2
   },
   "file_extension": ".py",
   "mimetype": "text/x-python",
   "name": "python",
   "nbconvert_exporter": "python",
   "pygments_lexer": "ipython2",
   "version": "2.7.6"
  }
 },
 "nbformat": 4,
 "nbformat_minor": 5
}
