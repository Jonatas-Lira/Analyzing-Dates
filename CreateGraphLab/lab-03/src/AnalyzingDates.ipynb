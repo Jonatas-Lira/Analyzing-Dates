{
 "cells": [
  {
   "cell_type": "code",
   "id": "initial_id",
   "metadata": {
    "collapsed": true,
    "ExecuteTime": {
     "end_time": "2024-05-07T01:52:32.792302Z",
     "start_time": "2024-05-07T01:52:32.783759Z"
    }
   },
   "source": [
    "from collections import Counter\n",
    "from tabulate import tabulate"
   ],
   "outputs": [],
   "execution_count": 1
  },
  {
   "metadata": {
    "ExecuteTime": {
     "end_time": "2024-05-07T01:52:32.798165Z",
     "start_time": "2024-05-07T01:52:32.793326Z"
    }
   },
   "cell_type": "code",
   "source": [
    "avaliacoes = [5, 5, 2, 4, 1, 3, 4, 0, 5, 2, 4, 1, 3, 2, 5]\n",
    "frequencia = Counter(avaliacoes)\n",
    "\n",
    "# Tabela de frequência\n",
    "tabela = []\n",
    "for avaliacao, freq in sorted(frequencia.items()):\n",
    "    tabela.append([avaliacao, freq])\n",
    "    \n",
    "print(tabulate(tabela, headers=[\"Avaliação\", \"Frequência\"], tablefmt=\"pretty\"))"
   ],
   "id": "3baf6de0e4562ffe",
   "outputs": [
    {
     "name": "stdout",
     "output_type": "stream",
     "text": [
      "+-----------+------------+\n",
      "| Avaliação | Frequência |\n",
      "+-----------+------------+\n",
      "|     0     |     1      |\n",
      "|     1     |     2      |\n",
      "|     2     |     3      |\n",
      "|     3     |     2      |\n",
      "|     4     |     3      |\n",
      "|     5     |     4      |\n",
      "+-----------+------------+\n"
     ]
    }
   ],
   "execution_count": 2
  }
 ],
 "metadata": {
  "kernelspec": {
   "display_name": "Python 3",
   "language": "python",
   "name": "python3"
  },
  "language_info": {
   "codemirror_mode": {
    "name": "ipython",
    "version": 2
   },
   "file_extension": ".py",
   "mimetype": "text/x-python",
   "name": "python",
   "nbconvert_exporter": "python",
   "pygments_lexer": "ipython2",
   "version": "2.7.6"
  }
 },
 "nbformat": 4,
 "nbformat_minor": 5
}
